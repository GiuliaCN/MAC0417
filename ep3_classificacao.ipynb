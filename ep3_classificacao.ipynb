{
  "nbformat": 4,
  "nbformat_minor": 0,
  "metadata": {
    "colab": {
      "name": "ep3_classificacao.ipynb",
      "provenance": [],
      "collapsed_sections": [],
      "include_colab_link": true
    },
    "kernelspec": {
      "name": "python3",
      "display_name": "Python 3"
    },
    "language_info": {
      "name": "python"
    }
  },
  "cells": [
    {
      "cell_type": "markdown",
      "metadata": {
        "id": "view-in-github",
        "colab_type": "text"
      },
      "source": [
        "<a href=\"https://colab.research.google.com/github/GiuliaCN/MAC0417/blob/main/ep3_classificacao.ipynb\" target=\"_parent\"><img src=\"https://colab.research.google.com/assets/colab-badge.svg\" alt=\"Open In Colab\"/></a>"
      ]
    },
    {
      "cell_type": "markdown",
      "metadata": {
        "id": "cP1F2xxeY8Qf"
      },
      "source": [
        "#EP3.2 - MAC0417/5768 - Visão e Processamento de Imagens\n",
        "\n",
        "Professor: Roberto Marcondes\n",
        "\n",
        "Alunos:\n",
        "\n",
        "*   Carlos Reis NºUSP 11295741\n",
        "*   Daniel Silva Lopes da Costa N°USP 11302720\n",
        "*   Giulia Cunha De Nardi N°10692203\n",
        "\n",
        "Pasta no Drive: https://drive.google.com/drive/folders/1UCvz5sp8_lax59cgArrOyZSArcTVpvfI?usp=sharing\n",
        "\n",
        "\n",
        "Github: https://github.com/GiuliaCN/MAC0417\n",
        "\n",
        "\n"
      ]
    },
    {
      "cell_type": "markdown",
      "metadata": {
        "id": "s4cG003qhY3-"
      },
      "source": [
        "# 1 - Introdução"
      ]
    },
    {
      "cell_type": "markdown",
      "metadata": {
        "id": "jtxYBeM0OrBL"
      },
      "source": [
        "Um algoritmo de classificação supervisionada tem o intuito de prever a qual classe um objeto pertence, para isso, se utiliza uma parte da base de dados segmentada e etiquetada com a sua devida classe para o treino do algoritmo. Para testar os resultados, usa-se o resto do dataset, que não foi utilizado no treino, nele coletamos as métricas necessárias."
      ]
    },
    {
      "cell_type": "markdown",
      "metadata": {
        "id": "Uro6YS0ifEXF"
      },
      "source": [
        "# 2 - Objetivo"
      ]
    },
    {
      "cell_type": "markdown",
      "metadata": {
        "id": "rGSLrmHGOwGp"
      },
      "source": [
        "Realizar a classificação das classes utilizando um algoritmo SVC nos datasets segmentados e analisar os resultados."
      ]
    },
    {
      "cell_type": "markdown",
      "metadata": {
        "id": "aRc4oS4SfUSG"
      },
      "source": [
        "# 3 - Leitura dos dados"
      ]
    },
    {
      "cell_type": "code",
      "metadata": {
        "id": "ZACzjdhgfZHH"
      },
      "source": [
        "# Conectar-se ao Drive\n",
        "from google.colab import drive\n",
        "\n",
        "# https://docs.python.org/3/library/os.html\n",
        "import os\n",
        "import matplotlib.pyplot as plt\n",
        "import matplotlib.patches as mpatches\n",
        "import matplotlib\n",
        "import numpy as np\n",
        "\n",
        "\n",
        "# skimage.io para carregar as imagens\n",
        "# https://scikit-image.org/docs/dev/api/skimage.io.html\n",
        "from skimage import io\n",
        "from skimage import data, img_as_float\n",
        "from skimage import exposure\n",
        "from skimage.filters import threshold_otsu\n",
        "from skimage.util import invert\n",
        "\n",
        "# Biblioteca skimage\n",
        "from skimage.segmentation import clear_border\n",
        "from skimage.measure import label, regionprops\n",
        "from skimage.morphology import closing, square\n",
        "from skimage.color import label2rgb\n",
        "from skimage.filters import gaussian\n",
        "from skimage.feature import canny\n",
        "from skimage.morphology import binary_dilation\n",
        "from skimage.util import invert\n",
        "from skimage import transform\n",
        "from skimage.util import crop\n",
        "\n",
        "# bibliotecas do treino\n",
        "from sklearn.model_selection import train_test_split\n",
        "from sklearn.model_selection import GridSearchCV\n",
        "from sklearn.metrics import classification_report\n",
        "from skimage.segmentation import clear_border\n",
        "from sklearn.metrics import confusion_matrix\n",
        "from sklearn.decomposition import PCA\n",
        "from sklearn.svm import SVC\n",
        "\n",
        "# https://pandas.pydata.org/\n",
        "import pandas as pd"
      ],
      "execution_count": null,
      "outputs": []
    },
    {
      "cell_type": "code",
      "metadata": {
        "id": "cuRIKDUifZQT",
        "colab": {
          "base_uri": "https://localhost:8080/"
        },
        "outputId": "a82b305a-c40a-41de-e820-60f3ea556b87"
      },
      "source": [
        "drive.mount('/content/gdrive')"
      ],
      "execution_count": null,
      "outputs": [
        {
          "output_type": "stream",
          "text": [
            "Drive already mounted at /content/gdrive; to attempt to forcibly remount, call drive.mount(\"/content/gdrive\", force_remount=True).\n"
          ],
          "name": "stdout"
        }
      ]
    },
    {
      "cell_type": "code",
      "metadata": {
        "id": "jvNV1xzwffFH"
      },
      "source": [
        "os.chdir('/content/gdrive/My Drive/eps/')"
      ],
      "execution_count": null,
      "outputs": []
    },
    {
      "cell_type": "code",
      "metadata": {
        "id": "WbwMkNBRfDfn",
        "colab": {
          "base_uri": "https://localhost:8080/"
        },
        "outputId": "61a49a4c-4985-4f9e-a577-135967a8c75f"
      },
      "source": [
        "classes = os.listdir('datasets/originalGrayDataset')\n",
        "classes"
      ],
      "execution_count": null,
      "outputs": [
        {
          "output_type": "execute_result",
          "data": {
            "text/plain": [
              "['tesoura',\n",
              " 'copo',\n",
              " 'chave',\n",
              " 'escova',\n",
              " 'desodorante',\n",
              " 'garfo',\n",
              " 'faca',\n",
              " 'grampeador',\n",
              " 'lapis',\n",
              " 'oculos']"
            ]
          },
          "metadata": {
            "tags": []
          },
          "execution_count": 6
        }
      ]
    },
    {
      "cell_type": "code",
      "metadata": {
        "id": "EdIo8m6Tr0Bz"
      },
      "source": [
        "def get_base_and_labels_manual():\n",
        "  base = []\n",
        "  labels = []\n",
        "  i = 0\n",
        "  for classe in classes:\n",
        "    imgs = io.imread_collection(\"datasets/segmentedManualDataset/\"+classe+\"/*.jpg\")\n",
        "    for img in imgs:\n",
        "      base.append(img)\n",
        "      labels.append(i)\n",
        "    i += 1\n",
        "  return base, labels\n",
        "\n",
        "def get_base_and_labels_auto():\n",
        "  base = []\n",
        "  labels = []\n",
        "  i = 0\n",
        "  for classe in classes:\n",
        "    imgs = io.imread_collection(\"datasets/segmentedAutomaticDataset/\"+classe+\"/*.jpg\")\n",
        "    for img in imgs[:len(imgs)//6]:\n",
        "      base.append(img)\n",
        "      labels.append(i)\n",
        "    i += 1\n",
        "\n",
        "  return base, labels"
      ],
      "execution_count": null,
      "outputs": []
    },
    {
      "cell_type": "code",
      "metadata": {
        "id": "1TkzBuHbftCf"
      },
      "source": [
        "Base_manual, y_manual = get_base_and_labels_manual()\n",
        "Base_auto, y_auto = get_base_and_labels_auto()\n",
        "\n",
        "Base = Base_manual + Base_auto\n",
        "y = y_manual + y_auto"
      ],
      "execution_count": null,
      "outputs": []
    },
    {
      "cell_type": "markdown",
      "metadata": {
        "id": "Z1QLZouwfvGO"
      },
      "source": [
        "# 4 - Classificação"
      ]
    },
    {
      "cell_type": "markdown",
      "metadata": {
        "id": "caeVfWxchtTB"
      },
      "source": [
        "### 4.1 Extração de features\n",
        "\n",
        "Para esta etapa, deixamos as features preparadas para serem utilizadas pelo algoritmo, pois a imagem precisa estar em um formato adequado. Utilizamos a feret box para ajudar no processamento, limitando os espaços da imagem onde o objeto pode ser encontrado. No final, separamos a base de dados entre teste e treino."
      ]
    },
    {
      "cell_type": "code",
      "metadata": {
        "id": "DIXnDKkpYWbn"
      },
      "source": [
        "def feret_box(image):\n",
        "  cleared = clear_border(image)\n",
        "  label_image = label(cleared)\n",
        "  image_label_overlay = label2rgb(label_image, image=image, bg_label=0)\n",
        "\n",
        "  if regionprops(label_image):\n",
        "      max_area = 0\n",
        "      for region in regionprops(label_image):\n",
        "        if region.area >= max_area:\n",
        "          minr, minc, maxr, maxc = region.bbox\n",
        "          max_area = (maxc - minc) * (maxr - minr)\n",
        "          regionMax = region\n",
        "  else: #Se não encontrar nenhuma região, faz o box da imagem toda\n",
        "    minr, minc, maxr, maxc = 0, 0, image.shape[0], image.shape[1]\n",
        "\n",
        "  return minr, minc, maxr, maxc\n"
      ],
      "execution_count": null,
      "outputs": []
    },
    {
      "cell_type": "code",
      "metadata": {
        "id": "kQsY87NtRBt_"
      },
      "source": [
        "from skimage.transform import resize\n",
        "\n",
        "def create_features(Base):\n",
        "  #todas as imagens tem mesmo tamanho\n",
        "  lx , ly = Base[0].shape\n",
        "  i=0\n",
        "  err_count=0\n",
        "\n",
        "\n",
        "  for imag in Base:  \n",
        "    try:\n",
        "      aux = Extrai_features (imag, 750, 500)\n",
        "    except:\n",
        "      imag_r = resize(imag, (lx, ly), anti_aliasing=True)\n",
        "      aux = Extrai_features(imag, 750, 500)\n",
        "    if i ==0 :\n",
        "      feature = aux\n",
        "    else:\n",
        "      feature = np.vstack([feature, aux])\n",
        "    i+=1\n",
        "\n",
        "  print(f' features shape: {feature.shape}')\n",
        "  return feature, err_count"
      ],
      "execution_count": null,
      "outputs": []
    },
    {
      "cell_type": "code",
      "metadata": {
        "id": "u4nUv1C8D39e"
      },
      "source": [
        "# Extração de Features\n",
        "## r limite de rows\n",
        "## c limite de colunas\n",
        "def Extrai_features (image, r, c):\n",
        "  ## pega limites da imagem\n",
        "  minr, minc, maxr, maxc = feret_box(image)\n",
        "  tratado = []\n",
        "  blat = (c -(maxc-minc)) // 2\n",
        "  bsup = (r -(maxr-minr)) // 2\n",
        "  for i in range(r):\n",
        "    for j in range(c):\n",
        "      if i < bsup or i > r - bsup: \n",
        "        tratado.append(0)\n",
        "      elif j < blat or j > c - blat: \n",
        "        tratado.append(0)\n",
        "      else: \n",
        "        tratado.append(image[minr+i-bsup][minc+j-blat])\n",
        "  return tratado"
      ],
      "execution_count": null,
      "outputs": []
    },
    {
      "cell_type": "code",
      "metadata": {
        "colab": {
          "base_uri": "https://localhost:8080/"
        },
        "id": "tx0YndBxC2ki",
        "outputId": "f7f873b0-81bb-4bfa-d324-580e0bc56c0c"
      },
      "source": [
        "Feature, err = create_features(Base)\n",
        "\n",
        "# split into a training and testing set\n",
        "X_train, X_test, y_train, y_test = train_test_split(\n",
        "    Feature, y, test_size=0.3)"
      ],
      "execution_count": null,
      "outputs": [
        {
          "output_type": "stream",
          "text": [
            " features shape: (349, 270000)\n"
          ],
          "name": "stdout"
        }
      ]
    },
    {
      "cell_type": "markdown",
      "metadata": {
        "id": "7jMpf4tjf3LZ"
      },
      "source": [
        "### 4.2 PCA de features"
      ]
    },
    {
      "cell_type": "markdown",
      "metadata": {
        "id": "ZUPeWfDN82GQ"
      },
      "source": [
        "Para normalização dos dados, utilizamos o Principal Component Analysis (PCA), que realiza uma redução linear nos dados para normalizá-los."
      ]
    },
    {
      "cell_type": "code",
      "metadata": {
        "id": "WNdAEVANhjS6"
      },
      "source": [
        "# #############################################################################\n",
        "# Compute a PCA (eigenfaces) on the face dataset (treated as unlabeled\n",
        "# dataset): unsupervised feature extraction / dimensionality reduction\n",
        "\n",
        "pca = PCA().fit(X_train)\n",
        "\n",
        "X_train_pca = pca.transform(X_train)\n",
        "X_test_pca = pca.transform(X_test)"
      ],
      "execution_count": null,
      "outputs": []
    },
    {
      "cell_type": "markdown",
      "metadata": {
        "id": "LR--kR7uiBe-"
      },
      "source": [
        "### 4.3 Classificação"
      ]
    },
    {
      "cell_type": "markdown",
      "metadata": {
        "id": "0AKFkDBaTEtR"
      },
      "source": [
        "Na classificação utilizamos o algoritmo SVC."
      ]
    },
    {
      "cell_type": "code",
      "metadata": {
        "id": "iB7CYti3iIjE",
        "colab": {
          "base_uri": "https://localhost:8080/"
        },
        "outputId": "db429f24-e724-40e5-923f-39af2c5a2245"
      },
      "source": [
        "# #############################################################################\n",
        "# Train a SVM classification model\n",
        "\n",
        "param_grid = {'C': [1e3, 5e3, 1e4, 5e4, 1e5],\n",
        "              'gamma': [0.0001, 0.0005, 0.001, 0.005, 0.01, 0.1], }\n",
        "clf = GridSearchCV(\n",
        "    SVC(kernel='rbf', class_weight='balanced'), param_grid\n",
        ")\n",
        "clf = clf.fit(X_train_pca, y_train)"
      ],
      "execution_count": null,
      "outputs": [
        {
          "output_type": "stream",
          "text": [
            "Fitting the classifier to the training set\n",
            "Best estimator found by grid search:\n",
            "SVC(C=1000.0, break_ties=False, cache_size=200, class_weight='balanced',\n",
            "    coef0=0.0, decision_function_shape='ovr', degree=3, gamma=0.0001,\n",
            "    kernel='rbf', max_iter=-1, probability=False, random_state=None,\n",
            "    shrinking=True, tol=0.001, verbose=False)\n"
          ],
          "name": "stdout"
        }
      ]
    },
    {
      "cell_type": "markdown",
      "metadata": {
        "id": "QimcqrVyiIvW"
      },
      "source": [
        "### 4.3 Avaliação da classificação"
      ]
    },
    {
      "cell_type": "markdown",
      "metadata": {
        "id": "nEQrjSnXREqp"
      },
      "source": [
        "Para avaliar os resultados, utilizamos uma matriz de confusão, que tem o intuito de demonstrar graficamente as clases onde o algoritmo acerta e onde erra."
      ]
    },
    {
      "cell_type": "code",
      "metadata": {
        "id": "mGag9tU7iSuK",
        "colab": {
          "base_uri": "https://localhost:8080/",
          "height": 881
        },
        "outputId": "50ca0dc7-11d5-4770-8e2f-80bd8c96fd63"
      },
      "source": [
        "from sklearn.metrics import plot_confusion_matrix\n",
        "y_pred = clf.predict(X_test_pca)\n",
        "\n",
        "_, axes = plt.subplots(1, 1, figsize=(20, 15))\n",
        "disp = plot_confusion_matrix(clf, X_test_pca, y_test,\n",
        "                            cmap=plt.cm.Blues,\n",
        "                            normalize='true',\n",
        "                            values_format='.4f',\n",
        "                            ax=axes)\n",
        "plt.show()\n"
      ],
      "execution_count": null,
      "outputs": [
        {
          "output_type": "display_data",
          "data": {
            "image/png": "[encoded data removed]",
            "text/plain": [
              "<Figure size 1440x1080 with 2 Axes>"
            ]
          },
          "metadata": {
            "tags": [],
            "needs_background": "light"
          }
        }
      ]
    },
    {
      "cell_type": "markdown",
      "metadata": {
        "id": "LJWRsUrnhjkb"
      },
      "source": [
        "# 5- Conclusões"
      ]
    },
    {
      "cell_type": "markdown",
      "metadata": {
        "id": "Otx7_6qDiTK7"
      },
      "source": [
        "Podemos perceber que o algoritmo está enviesado, escolhendo sempre uma única classe na maioria das vezes, o que pode ser causado por um erro nas labels ou na qualidade das imagens de treino.\n"
      ]
    }
  ]
}